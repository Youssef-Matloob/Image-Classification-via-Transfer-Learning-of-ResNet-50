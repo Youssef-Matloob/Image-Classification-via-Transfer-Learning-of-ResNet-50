{
  "nbformat": 4,
  "nbformat_minor": 0,
  "metadata": {
    "colab": {
      "name": "DSP_Project_final.ipynb",
      "provenance": [],
      "collapsed_sections": []
    },
    "kernelspec": {
      "name": "python3",
      "display_name": "Python 3"
    },
    "accelerator": "GPU"
  },
  "cells": [
    {
      "cell_type": "code",
      "metadata": {
        "id": "cv_kRSA6acel",
        "colab_type": "code",
        "colab": {}
      },
      "source": [
        "import numpy as np\n",
        "import pandas as pd\n",
        "\n",
        "import matplotlib.pyplot as plt\n",
        "%matplotlib inline \n",
        "\n",
        "import cv2\n",
        "import pickle as pkl\n",
        "\n",
        "import os"
      ],
      "execution_count": 0,
      "outputs": []
    },
    {
      "cell_type": "code",
      "metadata": {
        "id": "KWJvf5wIl4K_",
        "colab_type": "code",
        "outputId": "47645858-54fd-4267-ff14-fb9c1abdcf48",
        "colab": {
          "base_uri": "https://localhost:8080/",
          "height": 35
        }
      },
      "source": [
        "from google.colab import drive\n",
        "drive.mount('/content/drive')"
      ],
      "execution_count": 0,
      "outputs": [
        {
          "output_type": "stream",
          "text": [
            "Drive already mounted at /content/drive; to attempt to forcibly remount, call drive.mount(\"/content/drive\", force_remount=True).\n"
          ],
          "name": "stdout"
        }
      ]
    },
    {
      "cell_type": "code",
      "metadata": {
        "id": "xLWhG7Jpofwf",
        "colab_type": "code",
        "colab": {}
      },
      "source": [
        "!cp /content/drive/My\\ Drive/GP/DSP2_Classwork/DSP\\ final\\ project/Datasets\\ DSP-2\\ Image\\ Recognition\\ Project-20200507T043015Z-001.zip /content\n"
      ],
      "execution_count": 0,
      "outputs": []
    },
    {
      "cell_type": "code",
      "metadata": {
        "id": "C7vwPQi8ojGa",
        "colab_type": "code",
        "outputId": "0b40bf61-a741-4016-a202-af9c57bf1996",
        "colab": {
          "base_uri": "https://localhost:8080/",
          "height": 53
        }
      },
      "source": [
        "!unzip /content/Datasets\\ DSP-2\\ Image\\ Recognition\\ Project-20200507T043015Z-001.zip\n"
      ],
      "execution_count": 0,
      "outputs": [
        {
          "output_type": "stream",
          "text": [
            "Archive:  /content/Datasets DSP-2 Image Recognition Project-20200507T043015Z-001.zip\n",
            "replace Datasets DSP-2 Image Recognition Project/Test_numbers.PNG? [y]es, [n]o, [A]ll, [N]one, [r]ename: N\n"
          ],
          "name": "stdout"
        }
      ]
    },
    {
      "cell_type": "code",
      "metadata": {
        "id": "4cDTgS95oI8D",
        "colab_type": "code",
        "colab": {}
      },
      "source": [
        "# function to load data from pickle files\n",
        "def load_pkl(path):\n",
        "  with open(path, 'rb') as f:\n",
        "    return pkl.load(f)"
      ],
      "execution_count": 0,
      "outputs": []
    },
    {
      "cell_type": "code",
      "metadata": {
        "id": "YPcBlrJkoddA",
        "colab_type": "code",
        "colab": {}
      },
      "source": [
        "# load training data \n",
        "train_images = load_pkl('/content/Datasets DSP-2 Image Recognition Project/train_dsp_images.pkl')\n",
        "train_labels = load_pkl('/content/Datasets DSP-2 Image Recognition Project/train_dsp_labels.pkl')\n"
      ],
      "execution_count": 0,
      "outputs": []
    },
    {
      "cell_type": "code",
      "metadata": {
        "id": "fLtDYRlluUnX",
        "colab_type": "code",
        "colab": {}
      },
      "source": [
        "# load validation data\n",
        "validation_images = load_pkl('/content/Datasets DSP-2 Image Recognition Project/val_dsp_images.pkl')\n",
        "validation_labels = load_pkl('/content/Datasets DSP-2 Image Recognition Project/val_dsp_labels.pkl')"
      ],
      "execution_count": 0,
      "outputs": []
    },
    {
      "cell_type": "code",
      "metadata": {
        "id": "99M6QixwuUu9",
        "colab_type": "code",
        "colab": {}
      },
      "source": [
        "#load test data\n",
        "test_images = load_pkl('/content/Datasets DSP-2 Image Recognition Project/test_dsp_images.pkl')\n",
        "test_labels = load_pkl('/content/Datasets DSP-2 Image Recognition Project/test_dsp_labels.pkl')"
      ],
      "execution_count": 0,
      "outputs": []
    },
    {
      "cell_type": "code",
      "metadata": {
        "id": "k_AUAFfLajF-",
        "colab_type": "code",
        "colab": {}
      },
      "source": [
        "# Number of Our classes\n",
        "NUM_CLASSES = 10\n",
        "\n",
        "# Fixed for Dataset color images\n",
        "CHANNELS = 3\n",
        "\n",
        "IMAGE_RESIZE = 224\n",
        "RESNET50_POOLING_AVERAGE = 'avg'\n",
        "DENSE_LAYER_ACTIVATION = 'softmax'\n",
        "OBJECTIVE_FUNCTION = 'categorical_crossentropy'\n",
        "\n",
        "# Common accuracy metric for all outputs, but can use different metrics for different output\n",
        "LOSS_METRICS = ['accuracy']\n",
        "\n",
        "# EARLY_STOP_PATIENCE must be < NUM_EPOCHS\n",
        "NUM_EPOCHS = 50\n",
        "EARLY_STOP_PATIENCE = 4\n",
        "\n",
        "# These steps value should be proper FACTOR of no.-of-images in train & valid folders respectively\n",
        "# Training images processed in each step would be no.-of-train-images / STEPS_PER_EPOCH_TRAINING\n",
        "STEPS_PER_EPOCH_TRAINING = 10\n",
        "STEPS_PER_EPOCH_VALIDATION = 10\n",
        "\n",
        "# These steps value should be proper FACTOR of no.-of-images in train & valid folders respectively\n",
        "# NOTE that these BATCH* are for Keras ImageDataGenerator batching to fill epoch step input\n",
        "BATCH_SIZE_TRAINING = 128\n",
        "BATCH_SIZE_VALIDATION = 128\n",
        "\n",
        "# Using 1 to easily manage mapping between test_generator & prediction for submission preparation\n",
        "BATCH_SIZE_TESTING = 1"
      ],
      "execution_count": 0,
      "outputs": []
    },
    {
      "cell_type": "code",
      "metadata": {
        "id": "T66v8mNmvKFC",
        "colab_type": "code",
        "outputId": "a3ea67f1-3c13-46a4-e6cf-a164a51c245b",
        "colab": {
          "base_uri": "https://localhost:8080/",
          "height": 1000
        }
      },
      "source": [
        "# sample of the data\n",
        "%matplotlib inline\n",
        "\n",
        "import matplotlib.pyplot as plt\n",
        "import matplotlib.image as mpimg\n",
        "print(train_images[123])\n",
        "imgplot = plt.imshow(train_images[123])"
      ],
      "execution_count": 0,
      "outputs": [
        {
          "output_type": "stream",
          "text": [
            "[[[255 255 255]\n",
            "  [255 255 255]\n",
            "  [255 255 255]\n",
            "  ...\n",
            "  [255 255 255]\n",
            "  [255 255 255]\n",
            "  [255 255 255]]\n",
            "\n",
            " [[255 255 255]\n",
            "  [255 255 255]\n",
            "  [255 255 255]\n",
            "  ...\n",
            "  [255 255 255]\n",
            "  [255 255 255]\n",
            "  [255 255 255]]\n",
            "\n",
            " [[255 255 255]\n",
            "  [255 255 255]\n",
            "  [255 255 255]\n",
            "  ...\n",
            "  [255 255 255]\n",
            "  [255 255 255]\n",
            "  [255 255 255]]\n",
            "\n",
            " ...\n",
            "\n",
            " [[255 255 255]\n",
            "  [255 255 255]\n",
            "  [255 255 255]\n",
            "  ...\n",
            "  [255 255 255]\n",
            "  [255 255 255]\n",
            "  [255 255 255]]\n",
            "\n",
            " [[255 255 255]\n",
            "  [255 255 255]\n",
            "  [255 255 255]\n",
            "  ...\n",
            "  [255 255 255]\n",
            "  [255 255 255]\n",
            "  [255 255 255]]\n",
            "\n",
            " [[255 255 255]\n",
            "  [255 255 255]\n",
            "  [255 255 255]\n",
            "  ...\n",
            "  [255 255 255]\n",
            "  [255 255 255]\n",
            "  [255 255 255]]]\n"
          ],
          "name": "stdout"
        },
        {
          "output_type": "display_data",
          "data": {
            "image/png": "[encoded data removed]",
            "text/plain": [
              "<Figure size 432x288 with 1 Axes>"
            ]
          },
          "metadata": {
            "tags": [],
            "needs_background": "light"
          }
        }
      ]
    },
    {
      "cell_type": "code",
      "metadata": {
        "id": "2ITSWCEsqsEw",
        "colab_type": "code",
        "outputId": "742d1b41-07ef-4bcd-98a7-8b602447e189",
        "colab": {
          "base_uri": "https://localhost:8080/",
          "height": 72
        }
      },
      "source": [
        "# check labels type (Do we need to encode it?)\n",
        "print (test_labels[0])\n",
        "print (train_labels[0])\n",
        "print (validation_labels[0])"
      ],
      "execution_count": 0,
      "outputs": [
        {
          "output_type": "stream",
          "text": [
            "Motorbikes\n",
            "Motorbikes\n",
            "Motorbikes\n"
          ],
          "name": "stdout"
        }
      ]
    },
    {
      "cell_type": "code",
      "metadata": {
        "id": "udShBuVhuwUm",
        "colab_type": "code",
        "colab": {}
      },
      "source": [
        "# So we need to encode the labels\n",
        "# Function One hot encoder\n",
        "# First Encode them then apply one hot encoder\n",
        "\n",
        "from sklearn.preprocessing import LabelEncoder, OneHotEncoder\n",
        "\n",
        "def One_Hot_Encoder(labels):\n",
        "  encoded_labels = np.array(labels)\n",
        "  labelencoder_X = LabelEncoder()\n",
        "  encoded_labels = labelencoder_X.fit_transform(encoded_labels)\n",
        "  encoded_labels = np.expand_dims(np.array(encoded_labels),axis=1)\n",
        "  onehotencoder = OneHotEncoder(categories='auto')\n",
        "  encoded_labels = onehotencoder.fit_transform(encoded_labels).toarray()\n",
        "  return encoded_labels"
      ],
      "execution_count": 0,
      "outputs": []
    },
    {
      "cell_type": "code",
      "metadata": {
        "id": "98LuqHV9wLgZ",
        "colab_type": "code",
        "colab": {}
      },
      "source": [
        "# Encode the training, validation and test labels\n",
        "train_labels = One_Hot_Encoder(train_labels)\n",
        "validation_labels = One_Hot_Encoder(validation_labels)\n",
        "test_labels = One_Hot_Encoder(test_labels)"
      ],
      "execution_count": 0,
      "outputs": []
    },
    {
      "cell_type": "code",
      "metadata": {
        "id": "tWysWP7BbDpL",
        "colab_type": "code",
        "colab": {}
      },
      "source": [
        "from tensorflow.keras.applications.resnet50 import ResNet50\n",
        "from tensorflow.keras.models import Sequential\n",
        "from tensorflow.keras.layers import Dense, Dropout\n",
        "\n"
      ],
      "execution_count": 0,
      "outputs": []
    },
    {
      "cell_type": "code",
      "metadata": {
        "id": "mzTRFh7LbaGn",
        "colab_type": "code",
        "outputId": "4b394122-86fa-4ffe-f509-0614d32af811",
        "colab": {
          "base_uri": "https://localhost:8080/",
          "height": 73
        }
      },
      "source": [
        "import tensorflow as tf\n",
        "model = Sequential()\n",
        "\n",
        "# 1st layer as the lumpsum weights from resnet50_weights_tf_dim_ordering_tf_kernels_notop.h5\n",
        "# NOTE that this layer will be set below as NOT TRAINABLE, i.e., use it as is\n",
        "model.add(ResNet50(include_top = False, pooling = RESNET50_POOLING_AVERAGE, weights = 'imagenet'))\n",
        "# 2nd layer as Dense for 10-class classification.\n",
        "model.add(Dense(512, activation = tf.nn.relu))\n",
        "model.add(Dropout(0.2))\n",
        "\n",
        "model.add(Dense(NUM_CLASSES, activation = DENSE_LAYER_ACTIVATION))\n",
        "\n",
        "# Say not to train first layer (ResNet) model as it is already trained\n",
        "model.layers[0].trainable = False"
      ],
      "execution_count": 0,
      "outputs": [
        {
          "output_type": "stream",
          "text": [
            "Downloading data from https://storage.googleapis.com/tensorflow/keras-applications/resnet/resnet50_weights_tf_dim_ordering_tf_kernels_notop.h5\n",
            "94773248/94765736 [==============================] - 3s 0us/step\n"
          ],
          "name": "stdout"
        }
      ]
    },
    {
      "cell_type": "code",
      "metadata": {
        "id": "EDbnop8NbzOx",
        "colab_type": "code",
        "outputId": "b47ef51f-d601-41e6-9e02-c1ee791d0612",
        "colab": {
          "base_uri": "https://localhost:8080/",
          "height": 308
        }
      },
      "source": [
        "model.summary()"
      ],
      "execution_count": 0,
      "outputs": [
        {
          "output_type": "stream",
          "text": [
            "Model: \"sequential\"\n",
            "_________________________________________________________________\n",
            "Layer (type)                 Output Shape              Param #   \n",
            "=================================================================\n",
            "resnet50 (Model)             (None, 2048)              23587712  \n",
            "_________________________________________________________________\n",
            "dense (Dense)                (None, 512)               1049088   \n",
            "_________________________________________________________________\n",
            "dropout (Dropout)            (None, 512)               0         \n",
            "_________________________________________________________________\n",
            "dense_1 (Dense)              (None, 10)                5130      \n",
            "=================================================================\n",
            "Total params: 24,641,930\n",
            "Trainable params: 1,054,218\n",
            "Non-trainable params: 23,587,712\n",
            "_________________________________________________________________\n"
          ],
          "name": "stdout"
        }
      ]
    },
    {
      "cell_type": "code",
      "metadata": {
        "id": "SbX5b5XgdQru",
        "colab_type": "code",
        "colab": {}
      },
      "source": [
        "from tensorflow.keras import optimizers\n",
        "\n",
        "Adamm = optimizers.Adam(learning_rate=0.001, beta_1=0.9, beta_2=0.999, amsgrad=False)\n",
        "model.compile(optimizer = Adamm, loss = OBJECTIVE_FUNCTION, metrics = LOSS_METRICS)"
      ],
      "execution_count": 0,
      "outputs": []
    },
    {
      "cell_type": "code",
      "metadata": {
        "id": "XB7lGsuxd5m2",
        "colab_type": "code",
        "colab": {}
      },
      "source": [
        "from tensorflow.keras.callbacks import EarlyStopping, ModelCheckpoint\n",
        "\n",
        "cb_early_stopper = EarlyStopping(monitor = 'val_loss', patience = EARLY_STOP_PATIENCE)\n",
        "cb_checkpointer = ModelCheckpoint(filepath = '/content/best.hdf5', monitor = 'val_loss', save_best_only = True, mode = 'auto')"
      ],
      "execution_count": 0,
      "outputs": []
    },
    {
      "cell_type": "code",
      "metadata": {
        "id": "v86H2dOzsLEF",
        "colab_type": "code",
        "outputId": "e7108755-dff3-4cf1-8102-c74b6308c437",
        "colab": {
          "base_uri": "https://localhost:8080/",
          "height": 1000
        }
      },
      "source": [
        "# concatenate validation images and labels into one variable to pass it into model.fit\n",
        "validation = (validation_images, validation_labels)\n",
        "print (validation[0])"
      ],
      "execution_count": 0,
      "outputs": [
        {
          "output_type": "stream",
          "text": [
            "[[[[255 255 255]\n",
            "   [255 255 255]\n",
            "   [255 255 255]\n",
            "   ...\n",
            "   [255 255 255]\n",
            "   [255 255 255]\n",
            "   [255 255 255]]\n",
            "\n",
            "  [[255 255 255]\n",
            "   [255 255 255]\n",
            "   [255 255 255]\n",
            "   ...\n",
            "   [255 255 255]\n",
            "   [255 255 255]\n",
            "   [255 255 255]]\n",
            "\n",
            "  [[255 255 255]\n",
            "   [255 255 255]\n",
            "   [255 255 255]\n",
            "   ...\n",
            "   [255 255 255]\n",
            "   [255 255 255]\n",
            "   [255 255 255]]\n",
            "\n",
            "  ...\n",
            "\n",
            "  [[255 255 255]\n",
            "   [255 255 255]\n",
            "   [255 255 255]\n",
            "   ...\n",
            "   [255 255 255]\n",
            "   [255 255 255]\n",
            "   [255 255 255]]\n",
            "\n",
            "  [[255 255 255]\n",
            "   [255 255 255]\n",
            "   [255 255 255]\n",
            "   ...\n",
            "   [255 255 255]\n",
            "   [255 255 255]\n",
            "   [255 255 255]]\n",
            "\n",
            "  [[255 255 255]\n",
            "   [255 255 255]\n",
            "   [255 255 255]\n",
            "   ...\n",
            "   [255 255 255]\n",
            "   [255 255 255]\n",
            "   [255 255 255]]]\n",
            "\n",
            "\n",
            " [[[255 255 255]\n",
            "   [255 255 255]\n",
            "   [255 255 255]\n",
            "   ...\n",
            "   [255 255 255]\n",
            "   [255 255 255]\n",
            "   [255 255 255]]\n",
            "\n",
            "  [[255 255 255]\n",
            "   [255 255 255]\n",
            "   [255 255 255]\n",
            "   ...\n",
            "   [255 255 255]\n",
            "   [255 255 255]\n",
            "   [255 255 255]]\n",
            "\n",
            "  [[255 255 255]\n",
            "   [255 255 255]\n",
            "   [255 255 255]\n",
            "   ...\n",
            "   [255 255 255]\n",
            "   [255 255 255]\n",
            "   [255 255 255]]\n",
            "\n",
            "  ...\n",
            "\n",
            "  [[255 255 255]\n",
            "   [255 255 255]\n",
            "   [255 255 255]\n",
            "   ...\n",
            "   [255 255 255]\n",
            "   [255 255 255]\n",
            "   [255 255 255]]\n",
            "\n",
            "  [[255 255 255]\n",
            "   [255 255 255]\n",
            "   [255 255 255]\n",
            "   ...\n",
            "   [255 255 255]\n",
            "   [255 255 255]\n",
            "   [255 255 255]]\n",
            "\n",
            "  [[255 255 255]\n",
            "   [255 255 255]\n",
            "   [255 255 255]\n",
            "   ...\n",
            "   [255 255 255]\n",
            "   [255 255 255]\n",
            "   [255 255 255]]]\n",
            "\n",
            "\n",
            " [[[255 255 255]\n",
            "   [255 255 255]\n",
            "   [255 255 255]\n",
            "   ...\n",
            "   [255 255 255]\n",
            "   [255 255 255]\n",
            "   [255 255 255]]\n",
            "\n",
            "  [[255 255 255]\n",
            "   [255 255 255]\n",
            "   [255 255 255]\n",
            "   ...\n",
            "   [255 255 255]\n",
            "   [255 255 255]\n",
            "   [255 255 255]]\n",
            "\n",
            "  [[255 255 255]\n",
            "   [255 255 255]\n",
            "   [255 255 255]\n",
            "   ...\n",
            "   [255 255 255]\n",
            "   [255 255 255]\n",
            "   [255 255 255]]\n",
            "\n",
            "  ...\n",
            "\n",
            "  [[255 255 255]\n",
            "   [255 255 255]\n",
            "   [255 255 255]\n",
            "   ...\n",
            "   [255 255 255]\n",
            "   [255 255 255]\n",
            "   [255 255 255]]\n",
            "\n",
            "  [[255 255 255]\n",
            "   [255 255 255]\n",
            "   [255 255 255]\n",
            "   ...\n",
            "   [255 255 255]\n",
            "   [255 255 255]\n",
            "   [255 255 255]]\n",
            "\n",
            "  [[255 255 255]\n",
            "   [255 255 255]\n",
            "   [255 255 255]\n",
            "   ...\n",
            "   [255 255 255]\n",
            "   [255 255 255]\n",
            "   [255 255 255]]]\n",
            "\n",
            "\n",
            " ...\n",
            "\n",
            "\n",
            " [[[155 155 155]\n",
            "   [153 153 153]\n",
            "   [163 163 163]\n",
            "   ...\n",
            "   [206 206 204]\n",
            "   [206 206 204]\n",
            "   [206 206 204]]\n",
            "\n",
            "  [[157 157 157]\n",
            "   [154 154 154]\n",
            "   [164 164 164]\n",
            "   ...\n",
            "   [206 206 204]\n",
            "   [206 206 204]\n",
            "   [206 206 204]]\n",
            "\n",
            "  [[158 158 158]\n",
            "   [156 156 156]\n",
            "   [165 165 165]\n",
            "   ...\n",
            "   [205 205 203]\n",
            "   [205 205 203]\n",
            "   [205 205 203]]\n",
            "\n",
            "  ...\n",
            "\n",
            "  [[210 220 217]\n",
            "   [209 218 215]\n",
            "   [209 214 213]\n",
            "   ...\n",
            "   [211 213 212]\n",
            "   [210 212 211]\n",
            "   [208 210 209]]\n",
            "\n",
            "  [[210 220 217]\n",
            "   [209 218 215]\n",
            "   [209 214 213]\n",
            "   ...\n",
            "   [210 212 211]\n",
            "   [209 211 210]\n",
            "   [207 209 208]]\n",
            "\n",
            "  [[210 220 217]\n",
            "   [209 218 215]\n",
            "   [209 214 213]\n",
            "   ...\n",
            "   [209 211 210]\n",
            "   [208 210 209]\n",
            "   [206 208 207]]]\n",
            "\n",
            "\n",
            " [[[  0   0   0]\n",
            "   [  0   0   0]\n",
            "   [  0   0   0]\n",
            "   ...\n",
            "   [  0   0   0]\n",
            "   [  0   0   0]\n",
            "   [  0   0   0]]\n",
            "\n",
            "  [[  0   0   0]\n",
            "   [  0   0   0]\n",
            "   [  0   0   0]\n",
            "   ...\n",
            "   [  0   0   0]\n",
            "   [  0   0   0]\n",
            "   [  0   0   0]]\n",
            "\n",
            "  [[  0   0   0]\n",
            "   [  0   0   0]\n",
            "   [  0   0   0]\n",
            "   ...\n",
            "   [  0   0   0]\n",
            "   [  0   0   0]\n",
            "   [  0   0   0]]\n",
            "\n",
            "  ...\n",
            "\n",
            "  [[  0   0   2]\n",
            "   [  0   0   2]\n",
            "   [  0   0   2]\n",
            "   ...\n",
            "   [  1   2   4]\n",
            "   [  1   2   4]\n",
            "   [  0   1   3]]\n",
            "\n",
            "  [[  0   0   2]\n",
            "   [  0   0   2]\n",
            "   [  0   0   2]\n",
            "   ...\n",
            "   [  2   2   3]\n",
            "   [  2   2   4]\n",
            "   [  1   1   3]]\n",
            "\n",
            "  [[  0   0   0]\n",
            "   [  0   0   0]\n",
            "   [  0   0   0]\n",
            "   ...\n",
            "   [  2   2   2]\n",
            "   [  2   2   4]\n",
            "   [  1   1   3]]]\n",
            "\n",
            "\n",
            " [[[ 21  34  43]\n",
            "   [ 19  32  41]\n",
            "   [ 17  30  39]\n",
            "   ...\n",
            "   [ 47  46  51]\n",
            "   [ 42  41  46]\n",
            "   [ 40  39  44]]\n",
            "\n",
            "  [[ 21  34  43]\n",
            "   [ 19  32  41]\n",
            "   [ 17  30  39]\n",
            "   ...\n",
            "   [ 47  46  51]\n",
            "   [ 42  41  46]\n",
            "   [ 40  39  44]]\n",
            "\n",
            "  [[ 20  33  42]\n",
            "   [ 19  32  41]\n",
            "   [ 17  30  39]\n",
            "   ...\n",
            "   [ 46  45  50]\n",
            "   [ 42  41  46]\n",
            "   [ 41  40  45]]\n",
            "\n",
            "  ...\n",
            "\n",
            "  [[159 152 142]\n",
            "   [155 147 137]\n",
            "   [152 143 132]\n",
            "   ...\n",
            "   [ 92  65  51]\n",
            "   [ 88  63  47]\n",
            "   [ 85  62  48]]\n",
            "\n",
            "  [[167 160 150]\n",
            "   [161 153 143]\n",
            "   [155 147 135]\n",
            "   ...\n",
            "   [ 92  65  51]\n",
            "   [ 89  64  48]\n",
            "   [ 86  63  49]]\n",
            "\n",
            "  [[172 165 155]\n",
            "   [165 157 145]\n",
            "   [157 149 137]\n",
            "   ...\n",
            "   [ 92  65  51]\n",
            "   [ 89  64  49]\n",
            "   [ 86  63  49]]]]\n"
          ],
          "name": "stdout"
        }
      ]
    },
    {
      "cell_type": "code",
      "metadata": {
        "id": "kt52t3x7eFiM",
        "colab_type": "code",
        "outputId": "12d42716-7cdc-4ca8-c431-e107b4894975",
        "colab": {
          "base_uri": "https://localhost:8080/",
          "height": 380
        }
      },
      "source": [
        "fit_history = model.fit(\n",
        "        train_images,\n",
        "        train_labels,\n",
        "        steps_per_epoch=STEPS_PER_EPOCH_TRAINING,\n",
        "        epochs = NUM_EPOCHS,\n",
        "        validation_data=validation,\n",
        "        validation_steps=STEPS_PER_EPOCH_VALIDATION,\n",
        "        callbacks=[cb_checkpointer, cb_early_stopper]\n",
        ")\n",
        "model.load_weights(\"/content/best.hdf5\")"
      ],
      "execution_count": 0,
      "outputs": [
        {
          "output_type": "stream",
          "text": [
            "Epoch 1/50\n",
            "10/10 [==============================] - 20s 2s/step - loss: 0.9557 - accuracy: 0.7287 - val_loss: 0.1577 - val_accuracy: 0.9542\n",
            "Epoch 2/50\n",
            "10/10 [==============================] - 11s 1s/step - loss: 0.1292 - accuracy: 0.9586 - val_loss: 0.1207 - val_accuracy: 0.9542\n",
            "Epoch 3/50\n",
            "10/10 [==============================] - 11s 1s/step - loss: 0.0562 - accuracy: 0.9817 - val_loss: 0.0682 - val_accuracy: 0.9730\n",
            "Epoch 4/50\n",
            "10/10 [==============================] - 11s 1s/step - loss: 0.0306 - accuracy: 0.9919 - val_loss: 0.0545 - val_accuracy: 0.9757\n",
            "Epoch 5/50\n",
            "10/10 [==============================] - 11s 1s/step - loss: 0.0240 - accuracy: 0.9942 - val_loss: 0.0614 - val_accuracy: 0.9730\n",
            "Epoch 6/50\n",
            "10/10 [==============================] - 12s 1s/step - loss: 0.0175 - accuracy: 0.9963 - val_loss: 0.0519 - val_accuracy: 0.9838\n",
            "Epoch 7/50\n",
            "10/10 [==============================] - 11s 1s/step - loss: 0.0132 - accuracy: 0.9976 - val_loss: 0.0573 - val_accuracy: 0.9757\n",
            "Epoch 8/50\n",
            "10/10 [==============================] - 12s 1s/step - loss: 0.0098 - accuracy: 0.9983 - val_loss: 0.0538 - val_accuracy: 0.9811\n",
            "Epoch 9/50\n",
            "10/10 [==============================] - 12s 1s/step - loss: 0.0075 - accuracy: 0.9990 - val_loss: 0.0553 - val_accuracy: 0.9811\n",
            "Epoch 10/50\n",
            "10/10 [==============================] - 12s 1s/step - loss: 0.0068 - accuracy: 0.9990 - val_loss: 0.0537 - val_accuracy: 0.9811\n"
          ],
          "name": "stdout"
        }
      ]
    },
    {
      "cell_type": "code",
      "metadata": {
        "id": "oOcvHctAsR3L",
        "colab_type": "code",
        "outputId": "2e75ae24-6ca1-41ef-ac1e-7753b9281b50",
        "colab": {
          "base_uri": "https://localhost:8080/",
          "height": 35
        }
      },
      "source": [
        "scores = model.evaluate(test_images, test_labels, verbose=0)\n",
        "scores"
      ],
      "execution_count": 0,
      "outputs": [
        {
          "output_type": "execute_result",
          "data": {
            "text/plain": [
              "[0.10801038146018982, 0.9808219075202942]"
            ]
          },
          "metadata": {
            "tags": []
          },
          "execution_count": 40
        }
      ]
    },
    {
      "cell_type": "code",
      "metadata": {
        "id": "SsZHtk3a5Abn",
        "colab_type": "code",
        "colab": {}
      },
      "source": [
        ""
      ],
      "execution_count": 0,
      "outputs": []
    }
  ]
}